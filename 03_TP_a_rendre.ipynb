{
 "cells": [
  {
   "cell_type": "markdown",
   "metadata": {},
   "source": [
    "# Exercice à rendre\n",
    "instructions en bas de la feuille"
   ]
  },
  {
   "cell_type": "markdown",
   "metadata": {},
   "source": [
    "## Partie 1 – Récupération du dataset avec Pandas\n",
    "Vous devez charger un dataset sur les passagers du Titanic.\n",
    "Pour cela, vous allez importer la bibliothèque `pandas` et charger un DataFrame *titanic* à partir du fichier csv `./data/titanic.csv`. Attention, ce fichier a un séparateur \";\" à renseigner. \n"
   ]
  },
  {
   "cell_type": "code",
   "execution_count": null,
   "metadata": {},
   "outputs": [],
   "source": []
  },
  {
   "cell_type": "markdown",
   "metadata": {},
   "source": [
    "Obtenez des informations sur ce fichier grâce à différentes fonctions."
   ]
  },
  {
   "cell_type": "code",
   "execution_count": 1,
   "metadata": {},
   "outputs": [],
   "source": [
    "# head()"
   ]
  },
  {
   "cell_type": "code",
   "execution_count": 2,
   "metadata": {},
   "outputs": [],
   "source": [
    "# tail()"
   ]
  },
  {
   "cell_type": "code",
   "execution_count": 3,
   "metadata": {},
   "outputs": [],
   "source": [
    "# info()"
   ]
  },
  {
   "cell_type": "code",
   "execution_count": 4,
   "metadata": {},
   "outputs": [],
   "source": [
    "# describe()"
   ]
  },
  {
   "attachments": {},
   "cell_type": "markdown",
   "metadata": {},
   "source": [
    "### Partie 2 - types de données\n",
    "\n",
    "Grâce à .info() , vous observez que certaines colonnes sont reconnues avec le type \"Object\", alors qu'on pourrait les transformer en \"category\". Modifiez le type de donnée des colonnes 'sex', 'pclass', 'survived' et 'embarked' en utilisant  `.astype(\"category\")`."
   ]
  },
  {
   "cell_type": "code",
   "execution_count": null,
   "metadata": {},
   "outputs": [],
   "source": []
  },
  {
   "attachments": {},
   "cell_type": "markdown",
   "metadata": {},
   "source": [
    "Combien d'individus sont recensés dans chaque catégorie ?"
   ]
  },
  {
   "cell_type": "code",
   "execution_count": null,
   "metadata": {},
   "outputs": [],
   "source": []
  },
  {
   "attachments": {},
   "cell_type": "markdown",
   "metadata": {},
   "source": [
    "### Partie 3 - Données manquantes et hors-format\n",
    "\n",
    "Si vous avez fait attention à la sortie de .info(), la colonne 'age' manque certaines cases (des valeurs NaN sont utilisés à leur place). De plus, certains âges sont représentés en tant que valeurs réelles (0,85 par exemple), mais utilisant une virgule au lieu d'un point (ce qui est attendu par l'ordinateur).\n",
    "\n",
    "Utiliser, à tour de rôle, des fonctions pour \n",
    "- remplacer la virgule, \n",
    "- remplir les cases vides avec la valeur \"28\" et \n",
    "- changer le type de données en float32."
   ]
  },
  {
   "cell_type": "code",
   "execution_count": null,
   "metadata": {},
   "outputs": [],
   "source": []
  },
  {
   "attachments": {},
   "cell_type": "markdown",
   "metadata": {},
   "source": [
    "Étudiez la sortie de .info() et .describe() après ces modifications."
   ]
  },
  {
   "cell_type": "code",
   "execution_count": null,
   "metadata": {},
   "outputs": [],
   "source": []
  },
  {
   "attachments": {},
   "cell_type": "markdown",
   "metadata": {},
   "source": [
    "### Partie 4 - supprimer les colonnes \"inutiles\"\n",
    "\n",
    "Certaines colonnes ne seront pas utilisées dans notre exercice, vous pouvez les supprimer avec la fonction .drop(). On donnera comme paramètres un array avec les noms des colonnes à supprimer ('body','ticket','fare','cabin','name','boat','home.dest'), ainsi que l'option \"axis=1\" pour indiquer qu'on souhaite supprimer les colonnes.\n"
   ]
  },
  {
   "cell_type": "code",
   "execution_count": null,
   "metadata": {},
   "outputs": [],
   "source": []
  },
  {
   "attachments": {},
   "cell_type": "markdown",
   "metadata": {},
   "source": [
    "### Partie 5 - Graphique \"camembert\"\n",
    "\n",
    "On veut afficher sur un graphique \"camembert\" les distributions des colonnes 'survived' et 'pclass'. Pour cela, on utilisera la bibliothèque Matplotlib.\n"
   ]
  },
  {
   "cell_type": "code",
   "execution_count": null,
   "metadata": {},
   "outputs": [],
   "source": [
    "\n"
   ]
  },
  {
   "attachments": {},
   "cell_type": "markdown",
   "metadata": {},
   "source": [
    "### Partie 6 - BoxPlot\n",
    "\n",
    "Maintenant, on fera un graphique \"boxplot\" à partir de la colonne \"age\". Bien qu'il soit possible de le faire avec Matplotlib, il est bien plus simple (et joli) de le faire en utilisant la bibliothèque Seaborn.\n",
    "\n"
   ]
  },
  {
   "cell_type": "code",
   "execution_count": null,
   "metadata": {},
   "outputs": [],
   "source": []
  },
  {
   "cell_type": "markdown",
   "metadata": {},
   "source": [
    "Rajoutez la colonne \"pclass\" au boxplot \"age\"."
   ]
  },
  {
   "cell_type": "code",
   "execution_count": null,
   "metadata": {},
   "outputs": [],
   "source": []
  },
  {
   "attachments": {},
   "cell_type": "markdown",
   "metadata": {},
   "source": [
    "### Partie 7 - Histogrammes\n",
    "\n",
    "Toujours intéressés par la colonne \"age\", nous voulons maintenant faire un histogramme. Avec Matplotlib, il suffit d'indiquer la source des données et le nombre de 'bins' :"
   ]
  },
  {
   "cell_type": "code",
   "execution_count": null,
   "metadata": {},
   "outputs": [],
   "source": []
  },
  {
   "attachments": {},
   "cell_type": "markdown",
   "metadata": {},
   "source": [
    "### Partie 8 - Pairplots\n",
    "\n",
    "Parfois on cherche des corrélations entre les variables. Les pairplots sont des importantes aides visuelles, croisant différentes variables dans un même écran.\n",
    "\n",
    "Utilisez seaborn pour afficher le pairplot de titanic sur les variables suivantes : 'pclass','sex','age','embarked','survived'"
   ]
  },
  {
   "cell_type": "code",
   "execution_count": null,
   "metadata": {},
   "outputs": [],
   "source": []
  },
  {
   "attachments": {},
   "cell_type": "markdown",
   "metadata": {},
   "source": [
    "### Partie 9 - Données Catégorisées\n",
    "\n",
    "Au lieu d'afficher les âges, nous voulons les regrouper en 4 groupes : enfants, jeunes, adultes et seniors. Utiliser la fonction .cut() pour générer une nouvelle colonne avec ces catégories (c'est une fonction de Pandas, renseignez-vous sur son utilisation)."
   ]
  },
  {
   "cell_type": "code",
   "execution_count": null,
   "metadata": {},
   "outputs": [],
   "source": []
  },
  {
   "attachments": {},
   "cell_type": "markdown",
   "metadata": {},
   "source": [
    "Faire un graphique camembert avec la répartition des classes."
   ]
  },
  {
   "cell_type": "code",
   "execution_count": null,
   "metadata": {},
   "outputs": [],
   "source": []
  },
  {
   "attachments": {},
   "cell_type": "markdown",
   "metadata": {},
   "source": [
    "### Partie 10 – Machine Learning pt 1\n",
    "\n",
    "On a fini la préparation des données, maintenant on souhaite tester différentes méthodes de machine learning. Commencez par la transformation des données quantitatives ('sex', 'pclass', etc.) grâce à .get_dummies() (autre fonction de Pandas, regardez le cours)."
   ]
  },
  {
   "cell_type": "code",
   "execution_count": null,
   "metadata": {},
   "outputs": [],
   "source": []
  },
  {
   "attachments": {},
   "cell_type": "markdown",
   "metadata": {},
   "source": [
    "Finalement, nous allons générer un dataset d'entraînement et autre de test. \n",
    "\n",
    "Pour cela, on sépare les colonnes avec les variables d'entrée et la colonne à prédire. \n",
    "Ensuite, on générera les datasets en réservant 25% des données pour la partie test."
   ]
  },
  {
   "cell_type": "code",
   "execution_count": null,
   "metadata": {},
   "outputs": [],
   "source": []
  },
  {
   "attachments": {},
   "cell_type": "markdown",
   "metadata": {},
   "source": [
    "### Partie 11 – Régression Linéaire simple\n",
    "\n",
    "On veut faire une régression linéaire simple (multivariate). \n",
    "\n",
    "Grâce à Scikit-Learn, on a déjà un \"regresseur\" tout prêt à être utilisé. \n",
    "On affichera les \"poids\" de chaque variable puis on fera des prédictions avec le dataset de test, et afficher la comparaison sous forme graphique (en bâton, par exemple)."
   ]
  },
  {
   "cell_type": "code",
   "execution_count": null,
   "metadata": {},
   "outputs": [],
   "source": []
  },
  {
   "attachments": {},
   "cell_type": "markdown",
   "metadata": {},
   "source": [
    "### Partie 12 - K plus proches voisins et Random Forests\n",
    "\n",
    "Comme les prédictions avec la régression linéaire sont loin d'être précises, on essayera avec deux autres méthodes, les KNN et les RandomForests."
   ]
  },
  {
   "cell_type": "code",
   "execution_count": 5,
   "metadata": {},
   "outputs": [],
   "source": [
    "# KNN"
   ]
  },
  {
   "cell_type": "code",
   "execution_count": 6,
   "metadata": {},
   "outputs": [],
   "source": [
    "# RandomForest"
   ]
  },
  {
   "attachments": {},
   "cell_type": "markdown",
   "metadata": {},
   "source": [
    "Pour finir, vous pouvez afficher différentes métriques (MSE, MAE, RMSE). Dans l'exemple ci-dessous, on affiche ces métriques pour les prévision avec randomforest (`y_pref_rf`)."
   ]
  },
  {
   "cell_type": "code",
   "execution_count": null,
   "metadata": {},
   "outputs": [],
   "source": [
    "import sklearn.metrics as metrics\n",
    "import numpy as np\n",
    "print('Mean Absolute Error:', metrics.mean_absolute_error(Y_test, y_pred_rf)) \n",
    "print('Mean Squared Error:', metrics.mean_squared_error(Y_test, y_pred_rf)) \n",
    "print('Root Mean Squared Error:', np.sqrt(metrics.mean_squared_error(Y_test, y_pred_rf)))\n"
   ]
  },
  {
   "cell_type": "markdown",
   "metadata": {},
   "source": [
    "# Rendu du TP\n",
    "\n",
    "Afin de rendre ce TP, vous allez renseigner votre nom dans le champ ci-dessous : "
   ]
  },
  {
   "cell_type": "code",
   "execution_count": null,
   "metadata": {},
   "outputs": [],
   "source": []
  },
  {
   "cell_type": "markdown",
   "metadata": {},
   "source": [
    "Ensuite, vous devez enregistrer le fichier (menu File) puis l'exporter en tant que notebook (File->Download as->Notebook. Ce ficher est à transmettre par mail à [angelo.steffenel@univ-reims.fr](mailto:angelo.steffenel@univ-reims.fr)."
   ]
  },
  {
   "cell_type": "markdown",
   "metadata": {},
   "source": [
    "PS : veuillez rendre ce TP à la fin de la séance TP prévue. "
   ]
  },
  {
   "cell_type": "code",
   "execution_count": null,
   "metadata": {},
   "outputs": [],
   "source": []
  }
 ],
 "metadata": {
  "kernelspec": {
   "display_name": "Python 3",
   "language": "python",
   "name": "python3"
  },
  "language_info": {
   "codemirror_mode": {
    "name": "ipython",
    "version": 3
   },
   "file_extension": ".py",
   "mimetype": "text/x-python",
   "name": "python",
   "nbconvert_exporter": "python",
   "pygments_lexer": "ipython3",
   "version": "3.7.9"
  }
 },
 "nbformat": 4,
 "nbformat_minor": 2
}
