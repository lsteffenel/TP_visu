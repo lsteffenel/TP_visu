{
  "cells": [
    {
      "cell_type": "markdown",
      "metadata": {
        "id": "8Ro-aBpx75be"
      },
      "source": [
        "#2 - La data visualisation avec Python (2ème partie)\n",
        "## 2.1 Quelques bases de cartographie\n",
        "\n",
        "La cartographie est un domaine à part entière qui a son propre environnement de travail notamment avec un grand nombre de logiciels de SIG (système d’information géographique).\n",
        "\n",
        "Python vous permettra de travailler avec certains d’entre eux. Par exemple, de\n",
        "nombreux traitements avec le logiciel QGIS sont automatisables en Python.\n",
        "\n",
        "### 2.1.1 Installation et utilisation de Cartopy\n",
        "\n",
        "Cartopy n’est pas installé par défaut dans votre environnement Anaconda. Il va\n",
        "falloir l’installer en utilisant votre gestionnaire d’environnement.\n",
        "\n",
        "Une fois que nous avons installé Cartopy, nous allons pouvoir représenter des\n",
        "cartes.\n",
        "\n",
        "Le code suivant permet de représenter deux points sur le globe et de les lier en\n",
        "utilisant deux distances :"
      ]
    },
    {
      "cell_type": "code",
      "source": [
        "!apt-get -V -y -qq install python-cartopy python3-cartopy\n",
        "!pip uninstall shapely -y\n",
        "!pip install shapely --no-binary shapely"
      ],
      "metadata": {
        "id": "NpegZmQl-siq"
      },
      "execution_count": null,
      "outputs": []
    },
    {
      "cell_type": "code",
      "execution_count": null,
      "metadata": {
        "id": "ToMJWJR675bf"
      },
      "outputs": [],
      "source": [
        "import cartopy.crs as ccrs\n",
        "import matplotlib.pyplot as plt"
      ]
    },
    {
      "cell_type": "code",
      "execution_count": null,
      "metadata": {
        "id": "-Hoh_74775bg"
      },
      "outputs": [],
      "source": [
        "# on définit le fond de carte\n",
        "ax = plt.axes(projection=ccrs.Mollweide())\n",
        "ax.stock_img()\n",
        "# on définit les points à afficher\n",
        "paris_lon, paris_lat = 2.3, 48.8\n",
        "sydney_lon, sydney_lat = 151.2, -33.9\n",
        "# on affiche le lien entre les deux villes en utilisant la métrique Geodetic\n",
        "plt.plot([paris_lon, sydney_lon], [paris_lat, sydney_lat],\n",
        "color='blue', linewidth=1, marker='.', transform=ccrs.Geodetic(),)\n",
        "# on affiche le lien entre les deux villes en utilisant\n",
        "# la métrique PlateCarree\n",
        "plt.plot([paris_lon, sydney_lon], [paris_lat, sydney_lat],\n",
        "color='grey', linestyle='--',\n",
        "transform=ccrs.PlateCarree(),\n",
        ")\n",
        "# on ajoute du texte\n",
        "plt.text(paris_lon-3, paris_lat - 12, 'Paris',\n",
        "horizontalalignment='right',\n",
        "transform=ccrs.Geodetic())\n",
        "plt.text(sydney_lon + 3, sydney_lat - 12, 'Sydney',\n",
        "horizontalalignment='left',\n",
        "transform=ccrs.Geodetic())"
      ]
    },
    {
      "cell_type": "markdown",
      "metadata": {
        "id": "Rx4GP_C975bg"
      },
      "source": [
        "Si on désire maintenant utiliser les données AirBnB de Paris, on peut combiner les deux packages que sont Matplotlib et Cartopy avec les données OpenStreetMap :"
      ]
    },
    {
      "cell_type": "code",
      "execution_count": null,
      "metadata": {
        "id": "tYDB_yaF75bg"
      },
      "outputs": [],
      "source": [
        "import cartopy.crs as ccrs\n",
        "from cartopy.io.img_tiles import OSM\n",
        "import matplotlib.pyplot as plt\n",
        "import pandas as pd"
      ]
    },
    {
      "cell_type": "code",
      "source": [
        "!mkdir data\n",
        "!wget https://raw.githubusercontent.com/lsteffenel/TP_visu/master/data/listing_extrait.csv -O data/listing_extrait.csv"
      ],
      "metadata": {
        "id": "RluI2UwP8wtA"
      },
      "execution_count": null,
      "outputs": []
    },
    {
      "cell_type": "code",
      "execution_count": null,
      "metadata": {
        "id": "M0rW5RVw75bh"
      },
      "outputs": [],
      "source": [
        "# on importe les données\n",
        "listing=pd.read_csv(\"data/listing_extrait.csv\")"
      ]
    },
    {
      "cell_type": "code",
      "execution_count": null,
      "metadata": {
        "id": "nG65kN7475bh"
      },
      "outputs": [],
      "source": [
        "# on utilise Open Street Map (OSM)\n",
        "osm_tiles = OSM()\n",
        "# on crée une figure\n",
        "plt.figure(figsize=(10,10))\n",
        "# on crée notre fond de carte en adaptant aux coordonnées de Paris\n",
        "ax = plt.axes(projection=osm_tiles.crs)\n",
        "ax.set_extent([2.2, 2.5, 48.8, 48.91],\n",
        "ccrs.PlateCarree())\n",
        "ax.add_image(osm_tiles, 12)\n",
        "# on ajoute un nuage de points avec les données AirBnB\n",
        "ax.scatter(\"longitude\",\"latitude\", data=listing, s=5, \n",
        "           transform=ccrs.PlateCarree(), alpha=.5)"
      ]
    },
    {
      "cell_type": "markdown",
      "metadata": {
        "id": "dFzhCPAo75bh"
      },
      "source": [
        "On peut aussi simplement le faire avec des données GoogleMap :"
      ]
    },
    {
      "cell_type": "code",
      "execution_count": null,
      "metadata": {
        "id": "ytind-Cw75bh"
      },
      "outputs": [],
      "source": [
        "import cartopy.crs as ccrs\n",
        "from cartopy.io.img_tiles import GoogleTiles\n",
        "# on crée la figure\n",
        "fig = plt.figure(figsize=(10,10))\n",
        "# on récupère les données Google Map\n",
        "google_tiles = GoogleTiles()\n",
        "# on crée le graphique\n",
        "ax = plt.axes(projection=google_tiles.crs)\n",
        "# on adapte les axes à la ville de Paris\n",
        "ax.set_extent((2.2, 2.5, 48.8, 48.93))\n",
        "# on ajoute l’image sur le graphique\n",
        "zoom = 12\n",
        "ax.add_image(google_tiles, zoom )\n",
        "# on ajoute les données\n",
        "ax.scatter(\"longitude\",\"latitude\", data=listing, s=5, transform=ccrs.PlateCarree(), alpha=.5)"
      ]
    },
    {
      "cell_type": "markdown",
      "metadata": {
        "id": "RMYC92eA75bh"
      },
      "source": [
        "### 2.3.2 Les autres outils\n",
        "#### Folium\n",
        "On commence par installer Folium dans notre environnement. "
      ]
    },
    {
      "cell_type": "markdown",
      "metadata": {
        "id": "oAWnTF4r75bh"
      },
      "source": [
        "On va utiliser le prix des logements, on va donc transformer cette colonne :"
      ]
    },
    {
      "cell_type": "code",
      "execution_count": null,
      "metadata": {
        "id": "SgfBzAlF75bh"
      },
      "outputs": [],
      "source": [
        "listing[\"price\"]=pd.to_numeric(listing[\"price\"].str.replace(\"$\",\"\")\\\n",
        "                               .str.replace(\",\",\"\"))"
      ]
    },
    {
      "cell_type": "markdown",
      "metadata": {
        "id": "6Ti-9bTW75bi"
      },
      "source": [
        "On cherche à afficher les logements coûtant plus de 500 dollars la nuit.\n",
        "\n",
        "On peut ensuite ajouter le code :"
      ]
    },
    {
      "cell_type": "code",
      "execution_count": null,
      "metadata": {
        "id": "Rpxh4FNw75bi"
      },
      "outputs": [],
      "source": [
        "import folium\n",
        "# création du plan et centrage sur Paris\n",
        "map2 = folium.Map(location=[48.84,2.35], zoom_start=12)\n",
        "# création d’un DataFrame avec les logements à plus de 1000 euros la nuit\n",
        "listing_chers = listing[listing[\"price\"]>500]\\\n",
        "                 [[\"latitude\",\"longitude\", \"price\",\"name\"]]\n",
        "\n",
        "# application d’une fonction sur les lignes du DataFrame \n",
        "# qui permet d’ajouter des marques sur le plan\n",
        "listing_chers.apply(lambda ligne:folium.Marker(location=[ligne[\"latitude\"],\n",
        "                                                         ligne[\"longitude\"]])\\\n",
        "                    .add_to(map2), axis=1)\n",
        "# sauvegarde du plan en html\n",
        "map2.save(\"map.html\")\n",
        "# affichage dans le notebook\n",
        "map2"
      ]
    },
    {
      "cell_type": "markdown",
      "metadata": {
        "id": "JxzYy9Sz75bi"
      },
      "source": [
        "On peut bien sûr aller plus loin avec les différents outils de Python que nous avons déjà vu mais aussi avec d'autres outils comme notamment iPyLeaflet."
      ]
    }
  ],
  "metadata": {
    "kernelspec": {
      "display_name": "Python 3",
      "language": "python",
      "name": "python3"
    },
    "language_info": {
      "codemirror_mode": {
        "name": "ipython",
        "version": 3
      },
      "file_extension": ".py",
      "mimetype": "text/x-python",
      "name": "python",
      "nbconvert_exporter": "python",
      "pygments_lexer": "ipython3",
      "version": "3.7.9"
    },
    "colab": {
      "provenance": []
    }
  },
  "nbformat": 4,
  "nbformat_minor": 0
}