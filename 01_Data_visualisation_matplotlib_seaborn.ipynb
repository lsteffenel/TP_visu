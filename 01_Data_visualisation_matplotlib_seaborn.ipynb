{
 "cells": [
  {
   "cell_type": "markdown",
   "metadata": {},
   "source": [
    "# Chapitre 5 - La data visualisation avec Python (1ère partie)"
   ]
  },
  {
   "cell_type": "code",
   "execution_count": null,
   "metadata": {},
   "outputs": [],
   "source": [
    "import numpy as np\n",
    "import pandas as pd"
   ]
  },
  {
   "cell_type": "markdown",
   "metadata": {},
   "source": [
    "De nombreux packages sont disponibles en Python pour représenter des données\n",
    "de manière attractive.\n",
    "\n",
    "Le plus connu est Matplotlib et sert de base à de nombreux autres packages."
   ]
  },
  {
   "cell_type": "markdown",
   "metadata": {},
   "source": [
    "## 5.1 Construction de graphiques avec matplotlib\n",
    "\n",
    "### 5.1.1 Afficher des graphiques\n",
    "\n",
    "Matplotlib est un package complet pour la data visualisation. Il est basé sur la\n",
    "construction de graphiques en utilisant des commandes simples.\n",
    "\n",
    "On commence par importer le module pyplot du package :"
   ]
  },
  {
   "cell_type": "code",
   "execution_count": null,
   "metadata": {},
   "outputs": [],
   "source": [
    "import matplotlib.pyplot as plt"
   ]
  },
  {
   "cell_type": "markdown",
   "metadata": {},
   "source": [
    "Si vous travaillez dans un notebook Jupyter, il vous faudra ajouter une ligne au\n",
    "début de votre notebook afin de faire en sorte que le graphique apparaisse dans le\n",
    "notebook à la suite de votre code sous la forme d’une image statique :"
   ]
  },
  {
   "cell_type": "code",
   "execution_count": null,
   "metadata": {},
   "outputs": [],
   "source": [
    "%matplotlib inline"
   ]
  },
  {
   "cell_type": "markdown",
   "metadata": {},
   "source": [
    "Le principe du développement de graphiques avec Matplotlib est toujours le\n",
    "même : on peuple notre graphique petit à petit et, une fois le graphique terminé, on soumet le code et on affiche le graphique (avec plt.show() dans votre IDE classique ou en soumettant la cellule dans votre notebook). \n",
    "\n",
    "Par ailleurs, il existe deux manières de construire des graphiques avec Matplotlib.\n",
    "\n",
    "On peut enchaîner les traitements et finalement afficher un graphique :"
   ]
  },
  {
   "cell_type": "code",
   "execution_count": null,
   "metadata": {},
   "outputs": [],
   "source": [
    "# on crée une figure\n",
    "plt.figure()\n",
    "# on commence par un sous-graphique\n",
    "plt.subplot(2,2,1)\n",
    "plt.plot(np.random.randn(100))\n",
    "# on enchaine avec un second sous-graphique\n",
    "plt.subplot(2,2,2)\n",
    "plt.plot(np.random.random(size=100),\"+\")\n",
    "# on ajoute un troisième sous-graphique\n",
    "plt.subplot(2,2,3)\n",
    "plt.plot(np.random.randn(100),\"r.\")\n",
    "# on finit avec le dernier sous-graphique\n",
    "plt.subplot(2,2,4)\n",
    "plt.plot(np.random.randn(100), \"g--\")\n",
    "# on sauvegarde notre graphique dans un fichier\n",
    "plt.savefig(\"data/mes_graphiques.jpg\")\n",
    "#plt.show() #si dans un IDE classique"
   ]
  },
  {
   "cell_type": "markdown",
   "metadata": {},
   "source": [
    "On voit ici que nous créons un graphique avec figure() et modifions les\n",
    "sous-graphiques.\n",
    "\n",
    "On peut utiliser des objets et travailler dessus :"
   ]
  },
  {
   "cell_type": "code",
   "execution_count": null,
   "metadata": {},
   "outputs": [],
   "source": [
    "# on crée une figure avec 4 sous-graphiques\n",
    "fig, ax=plt.subplots(2,2)\n",
    "# on construit les 4 graphiques\n",
    "ax[0,0].plot(np.random.randn(100))\n",
    "ax[0,1].plot(np.random.random(size=100),\"+\")\n",
    "ax[1,0].plot(np.random.randn(100),\"r.\")\n",
    "ax[1,1].plot(np.random.randn(100), \"g--\")\n",
    "# on sauvegarde l'image dans un fichier\n",
    "plt.savefig(\"data/mes_graphiques2.jpg\")\n",
    "#plt.show() #si dans un IDE classique"
   ]
  },
  {
   "cell_type": "markdown",
   "metadata": {},
   "source": [
    "Nous aurons tendance à privilégier la première approche qui est bien adaptée aux\n",
    "notebooks mais nous serons amenés à utiliser parfois la seconde notamment dans\n",
    "le cadre de graphiques plus interactifs."
   ]
  },
  {
   "cell_type": "markdown",
   "metadata": {},
   "source": [
    "### 5.1.3 Les paramètres globaux de vos graphiques\n",
    "On peut choisir un style pour son graphique, on utilise :"
   ]
  },
  {
   "cell_type": "code",
   "execution_count": null,
   "metadata": {},
   "outputs": [],
   "source": [
    "print(plt.style.available)"
   ]
  },
  {
   "cell_type": "markdown",
   "metadata": {},
   "source": [
    "Voici les paramètres de ce style :"
   ]
  },
  {
   "cell_type": "code",
   "execution_count": null,
   "metadata": {},
   "outputs": [],
   "source": [
    "plt.style.library['ggplot']"
   ]
  },
  {
   "cell_type": "markdown",
   "metadata": {},
   "source": [
    "Pour utiliser le style ggplot, on utilise :"
   ]
  },
  {
   "cell_type": "code",
   "execution_count": null,
   "metadata": {},
   "outputs": [],
   "source": [
    "plt.style.use('ggplot')\n",
    "plt.plot(np.random.randn(100))"
   ]
  },
  {
   "cell_type": "code",
   "execution_count": null,
   "metadata": {
    "scrolled": true
   },
   "outputs": [],
   "source": [
    "# on peut aussi utiliser :\n",
    "with plt.style.context('ggplot') :\n",
    "    plt.plot(np.random.randn(100))"
   ]
  },
  {
   "cell_type": "markdown",
   "metadata": {},
   "source": [
    "#### Changer des paramètres spécifiques"
   ]
  },
  {
   "cell_type": "code",
   "execution_count": null,
   "metadata": {},
   "outputs": [],
   "source": [
    "plt.rc('lines', linewidth=2, color='r')"
   ]
  },
  {
   "cell_type": "code",
   "execution_count": null,
   "metadata": {},
   "outputs": [],
   "source": [
    "plt.rcParams['lines.linewidth'] = 2\n",
    "plt.rcParams['lines.color'] = 'r'"
   ]
  },
  {
   "cell_type": "code",
   "execution_count": null,
   "metadata": {},
   "outputs": [],
   "source": [
    "# on peut aussi voir les paramètres par défaut\n",
    "#print(plt.rcParamsDefault)"
   ]
  },
  {
   "cell_type": "code",
   "execution_count": null,
   "metadata": {},
   "outputs": [],
   "source": [
    "# si on désire revenir aux paramètres par défaut, on utilise :\n",
    "plt.rcdefaults()"
   ]
  },
  {
   "cell_type": "markdown",
   "metadata": {},
   "source": [
    "#### Exporter un graphique\n",
    "On peut utiliser :"
   ]
  },
  {
   "cell_type": "code",
   "execution_count": null,
   "metadata": {},
   "outputs": [],
   "source": [
    "with plt.style.context('ggplot'):\n",
    "    plt.plot(np.random.randn(100))\n",
    "plt.savefig(\"data/ggplot_style.png\", dpi=600, transparent=True)"
   ]
  },
  {
   "cell_type": "markdown",
   "metadata": {},
   "source": [
    "### 5.1.4 Définir son premier graphique\n",
    "\n",
    "Si on désire dessiner un graphique simple, on pourra utiliser la fonction *plot()* :"
   ]
  },
  {
   "cell_type": "code",
   "execution_count": null,
   "metadata": {
    "scrolled": true
   },
   "outputs": [],
   "source": [
    "plt.plot(np.random.randn(100))"
   ]
  },
  {
   "cell_type": "markdown",
   "metadata": {},
   "source": [
    "On peut simplement ajouter des graphiques et des caractéristique à notre figure :"
   ]
  },
  {
   "cell_type": "code",
   "execution_count": null,
   "metadata": {},
   "outputs": [],
   "source": [
    "# on génère un premier graphique (rouge avec une ligne continue entre les points)\n",
    "plt.plot(np.random.randn(100),'r-' )\n",
    "# on génère un second graphique (bleu avec une ligne pointillée entre les points)\n",
    "plt.plot(np.random.randn(100),'b--' )\n",
    "# on ajoute des infos sur le titre, les noms des axes\n",
    "plt.title(\"Evolution du prix des actions sur 100 jours\")\n",
    "plt.xlabel(\"Temps\")\n",
    "plt.ylabel(\"Valeur\")"
   ]
  },
  {
   "cell_type": "markdown",
   "metadata": {},
   "source": [
    "Voici un exemple sur des données boursières, nous avons voulu représenter les\n",
    "données issues des maximums et minimums quotidiens de l’indice CAC 40."
   ]
  },
  {
   "cell_type": "code",
   "execution_count": null,
   "metadata": {},
   "outputs": [],
   "source": [
    "# on récupère les données\n",
    "cac40 = pd.read_csv(\"data/CAC40.csv\", parse_dates=[\"time\"])"
   ]
  },
  {
   "cell_type": "code",
   "execution_count": null,
   "metadata": {},
   "outputs": [],
   "source": [
    "cac40.head()"
   ]
  },
  {
   "cell_type": "code",
   "execution_count": null,
   "metadata": {},
   "outputs": [],
   "source": [
    "cac40[\"time\"]=pd.to_datetime(cac40['time'])"
   ]
  },
  {
   "cell_type": "code",
   "execution_count": null,
   "metadata": {},
   "outputs": [],
   "source": [
    "cac40.plot(x=\"time\", y=\"CAC 40\", \n",
    "           title=\"Evolution de l’indice CAC40 depuis 1988\",\n",
    "           legend=True)"
   ]
  },
  {
   "cell_type": "code",
   "execution_count": null,
   "metadata": {},
   "outputs": [],
   "source": [
    "\n",
    "# on affiche la courbe des valeurs en bleu\n",
    "plt.plot(cac40[\"time\"], cac40[\"CAC 40\"], label=\"CAC 40\",color=\"blue\")\n",
    "# on définit le nom des axes\n",
    "plt.xlabel(\"Date\")\n",
    "plt.ylabel(\"Valeur\")\n",
    "# on définit le titre\n",
    "plt.title(\"Evolution de l’indice CAC40 depuis 1988\")\n",
    "# on affiche la légende\n",
    "plt.legend()"
   ]
  },
  {
   "cell_type": "markdown",
   "metadata": {},
   "source": [
    "### 5.1.5 Nuage de points avec plt.scatter\n",
    "\n",
    "On peut utiliser la fonction *plt.scatter()* pour dessiner un nuage de points."
   ]
  },
  {
   "cell_type": "code",
   "execution_count": null,
   "metadata": {},
   "outputs": [],
   "source": [
    "# on génère des données\n",
    "x=np.random.random(size=100)\n",
    "y=np.random.random(size=100)\n",
    "taille = np.random.random(size=100)*100\n",
    "couleurs=np.random.random(size=100)*100"
   ]
  },
  {
   "cell_type": "code",
   "execution_count": null,
   "metadata": {},
   "outputs": [],
   "source": [
    "# s représente la taille des points\n",
    "# c représente les couleurs (on peut avoir une seule couleur)\n",
    "# cmap permet de fournir à Matplotlib une palette de couleurs\n",
    "plt.scatter(x,y,s=taille, c=couleurs, cmap=plt.get_cmap(\"Greys\"))\n",
    "plt.xlabel(\"X\")\n",
    "plt.ylabel(\"Y\")\n",
    "plt.title(\"Représentation de points aléatoires\")\n",
    "plt.colorbar()"
   ]
  },
  {
   "cell_type": "markdown",
   "metadata": {},
   "source": [
    "Sur les données AirBnB, on peut simplement afficher des coordonnées géographiques\n",
    "sous forme de nuage de points."
   ]
  },
  {
   "cell_type": "code",
   "execution_count": null,
   "metadata": {},
   "outputs": [],
   "source": [
    "# on commence par récupérer les données\n",
    "listing=pd.read_csv(\"https://www.stat4decision.com/listings.csv.gz\",index_col=0)"
   ]
  },
  {
   "cell_type": "code",
   "execution_count": null,
   "metadata": {},
   "outputs": [],
   "source": [
    "plt.scatter(\"longitude\",\"latitude\", data=listing, s=1, c=\"availability_30\")\n",
    "plt.axis('off')\n",
    "plt.colorbar()"
   ]
  },
  {
   "cell_type": "markdown",
   "metadata": {},
   "source": [
    "### 5.1.6 Le graphique en bâtons avec plt.bar()\n",
    "Voici un premier exemple de graphique en bâtons :"
   ]
  },
  {
   "cell_type": "code",
   "execution_count": null,
   "metadata": {
    "scrolled": true
   },
   "outputs": [],
   "source": [
    "plt.bar(range(5),[2,4,6,4,7])"
   ]
  },
  {
   "cell_type": "code",
   "execution_count": null,
   "metadata": {},
   "outputs": [],
   "source": [
    "listing.columns"
   ]
  },
  {
   "cell_type": "code",
   "execution_count": null,
   "metadata": {},
   "outputs": [],
   "source": [
    "review_means_resa=listing[listing[\"instant_bookable\"]==\"t\"]\\\n",
    "                    .groupby(\"host_is_superhost\").number_of_reviews.mean()\n",
    "review_means_noresa=listing[listing[\"instant_bookable\"]==\"f\"]\\\n",
    "                    .groupby(\"host_is_superhost\").number_of_reviews.mean()\n",
    "ind = np.arange(len(review_means_resa[:3]))\n",
    "width = 0.35\n",
    "\n",
    "plt.bar(ind - width/2, review_means_resa[:3], width,\n",
    "                color='SkyBlue', label='Resa instant')\n",
    "plt.bar(ind + width/2, review_means_noresa[:3], width,\n",
    "color = 'IndianRed', label = 'Pas resa instant')\n",
    "\n",
    "plt.ylabel('Nombre moyen de critiques')\n",
    "plt.xlabel(\"Est un superhost\")\n",
    "plt.title(\"Nombre moyen de critiques\")\n",
    "plt.xticks(ind, review_means_resa.index[:3])\n",
    "plt.legend()\n"
   ]
  },
  {
   "cell_type": "code",
   "execution_count": null,
   "metadata": {},
   "outputs": [],
   "source": [
    "review_means_resa"
   ]
  },
  {
   "cell_type": "code",
   "execution_count": null,
   "metadata": {},
   "outputs": [],
   "source": [
    "pd.concat([review_means_resa, review_means_noresa],axis=1).plot.bar()\n",
    "plt.ylabel('Nombre moyen de critiques')\n",
    "plt.xlabel(\"Politique d’annulation\")\n",
    "plt.title(\"Nombre moyen de critiques\")"
   ]
  },
  {
   "cell_type": "markdown",
   "metadata": {},
   "source": [
    "Ce code est séparé en plusieurs parties :\n",
    "\n",
    "- Dans une première partie, nous manipulons notre DataFrame pour en extraire les informations qui nous intéressent. Dans notre cas, il s’agit de deux objets Series qui rassemblent les nombres moyens de critiques des appartements en fonction de la possibilité de réserver instantanément le logement et en ajoutant un groupby pour calculer la moyenne en fonction des politiques d’annulation (nous ne prenons que les trois premières, ce qui se traduit par [:3]).\n",
    "- Dans une seconde partie, nous définissons les caractéristiques de notre graphique, la largeur des barres et leur position avec une suite d’entiers. On peut alors dessiner les barres en utilisant plt.bar(). Nous les positionnons de chaque côté de la marque numérique définie plus haut.\n",
    "- Dans une troisième partie, nous modifions les ticks en utilisant les différentes politiques d’annulation et ajoutons une légende."
   ]
  },
  {
   "cell_type": "markdown",
   "metadata": {},
   "source": [
    "### 5.1.7 La construction d’un pie chart\n",
    "Le pie chart est souvent connu sous le nom de camembert en français. Ce graphique est assez pauvre mais il est fréquemment utilisé.\n",
    "\n",
    "Un pie chart est simple à mettre en oeuvre avec Matplotlib, si nous reprenons l’exemple vu juste au-dessus :"
   ]
  },
  {
   "cell_type": "code",
   "execution_count": null,
   "metadata": {},
   "outputs": [],
   "source": [
    "# on construit les groupes grâce aux données AirBnB\n",
    "review_means=listing.groupby(\"host_is_superhost\").number_of_reviews.mean()\n",
    "\n",
    "# on affiche le graphique\n",
    "plt.pie(review_means[:3], \n",
    "        labels=review_means.index[:3], \n",
    "        autopct='%1.1f%%', shadow=True)"
   ]
  },
  {
   "cell_type": "code",
   "execution_count": null,
   "metadata": {},
   "outputs": [],
   "source": [
    "plt.pie(review_means[:3], \n",
    "        labels=review_means.index[:3],\n",
    "           colors = ['red', 'green'],\n",
    "           explode = [0, 0.1],\n",
    "           autopct = '%1.1f%%',\n",
    "           \n",
    "           shadow = True)\n",
    "plt.legend()"
   ]
  },
  {
   "cell_type": "markdown",
   "metadata": {},
   "source": [
    "### 5.1.8 Les barres d’erreurs avec plt.errorbar()\n",
    "\n",
    "Il arrive souvent que l’on veuille représenter des barres d’erreur liées aux observations.\n",
    "\n",
    "Cette fonction nous permet de construire un graphique classique (comme avec *plt.plot()*) en ajoutant des barres d’erreurs.\n",
    "\n",
    "Ces barres d’erreurs peuvent prendre différentes formes et différentes tailles.\n",
    "\n",
    "Si nous tentons de représenter les données d’une enquête sur 1 000 personnes\n",
    "avec les marges d’erreurs, en utilisant les quantiles de la distribution normale :"
   ]
  },
  {
   "cell_type": "code",
   "execution_count": null,
   "metadata": {},
   "outputs": [],
   "source": [
    "import scipy.stats"
   ]
  },
  {
   "cell_type": "code",
   "execution_count": null,
   "metadata": {
    "scrolled": true
   },
   "outputs": [],
   "source": [
    "# résultats des 4 candidats\n",
    "data=np.array([.33,.25,.28,.14])\n",
    "x=np.linspace(1,4,4)\n",
    "# calul de la marge d’erreur\n",
    "marge=np.sqrt(data*(1-data)/1000)*scipy.stats.distributions.norm.ppf(0.975)\n",
    "# affichage du résultat\n",
    "plt.errorbar(x, data, yerr=marge, fmt='.b', ecolor=\"grey\",barsabove=True)\n",
    "plt.title(\"Résultats avec marge d’erreur\")\n",
    "plt.ylim([0,0.5])\n",
    "plt.xticks(x,[\"A\",\"B\",\"C\",\"D\"])"
   ]
  },
  {
   "cell_type": "markdown",
   "metadata": {},
   "source": [
    "On peut modifier l’aspect des barres d’erreurs en utilisant par exemple *plt.style.use()* avec un style différent. \n",
    "\n",
    "On ajoute aussi les bornes des barres."
   ]
  },
  {
   "cell_type": "code",
   "execution_count": null,
   "metadata": {},
   "outputs": [],
   "source": [
    "plt.style.use('seaborn-whitegrid')\n",
    "plt.errorbar(x, data, yerr=marge,fmt='.b',capsize=5);\n",
    "plt.title(\"Résultats avec marge d’erreur\")\n",
    "plt.ylim([0,0.5])\n",
    "plt.xticks(x,[\"A\",\"B\",\"C\",\"D\"])"
   ]
  },
  {
   "cell_type": "code",
   "execution_count": null,
   "metadata": {},
   "outputs": [],
   "source": [
    "# si on désire revenir aux paramètres par défaut, on utilise :\n",
    "plt.rcdefaults()"
   ]
  },
  {
   "cell_type": "markdown",
   "metadata": {},
   "source": [
    "### 5.1.9 La construction d’histogrammes\n",
    "\n",
    "Les histogrammes sont des outils de description des données extrêmement importants afin d’aider à déterminer la distribution sous-jacente à chaque variable quantitative.\n",
    "\n",
    "Si nous désirons créer deux histogrammes associés à deux variables ayant les mêmes échelles sur le même graphique, nous utilisons le code suivant :"
   ]
  },
  {
   "cell_type": "code",
   "execution_count": null,
   "metadata": {},
   "outputs": [],
   "source": [
    "# on génère les données\n",
    "data1=np.random.randn(100000)+1\n",
    "data2=np.random.randn(100000)"
   ]
  },
  {
   "cell_type": "code",
   "execution_count": null,
   "metadata": {},
   "outputs": [],
   "source": [
    "# 1er histogramme\n",
    "plt.hist(data1, bins=50, color=\"blue\", label=\"données 1\", alpha=0.5)\n",
    "# 2nd histogramme\n",
    "plt.hist(data2, bins=50, color=\"red\", label=\"données 2\", alpha = 0.5)\n",
    "plt.title(\"Histogrammes\")\n",
    "plt.ylabel(\"Fréquences\")\n",
    "plt.legend()"
   ]
  },
  {
   "cell_type": "markdown",
   "metadata": {},
   "source": [
    "Dans ce code, on utilise *label=* pour donner un nom aux données. \n",
    "\n",
    "Le *alpha=* est utilisé afin d’afficher les graphiques en transparence et gère le degré d’opacité des graphiques."
   ]
  },
  {
   "cell_type": "markdown",
   "metadata": {},
   "source": [
    "### 5.1.10 Personnaliser vos graphiques Matplotlib\n",
    "\n",
    "#### Ajouter plusieurs graphiques sur le même graphique\n",
    "\n",
    "Jusqu’ici, nous avons utilisé des graphiques simples, il peut devenir vite nécessaire de combiner plusieurs graphiques sur la même figure. Pour cela, on va utiliser deux\n",
    "approches. Nous travaillons sur les données du CAC 40."
   ]
  },
  {
   "cell_type": "code",
   "execution_count": null,
   "metadata": {},
   "outputs": [],
   "source": [
    "# on crée les données\n",
    "cac40_2019 = cac40[(cac40.time<\"2020-01-01\") & (cac40.time>\"2019-01-01\")]\n",
    "cac40_1988 = cac40[(cac40.time<\"1989-01-01\") & (cac40.time>\"1988-01-01\")]\n",
    "cac40_2000 = cac40[(cac40.time<\"2001-01-01\") & (cac40.time>\"2000-01-01\")]\n",
    "# on crée une figure\n",
    "plt.figure()\n",
    "# on définit le titre de cette figure\n",
    "plt.suptitle(\"Evolution de l’indice CAC40 sur 3 années 2019 - 2000 - 1988\", \n",
    "             fontsize=14)\n",
    "# on se concentre sur le premier sous graphique\n",
    "plt.subplot(311)\n",
    "plt.plot(cac40_2019[\"time\"],cac40_2019[\"CAC 40\"], label=\"2019\")\n",
    "plt.ylabel(\"Valeur\")\n",
    "plt.legend()\n",
    "# on se concentre sur le second sous graphique\n",
    "plt.subplot(312)\n",
    "plt.plot(cac40_2000[\"time\"], cac40_2000[\"CAC 40\"], label=\"2000\")\n",
    "plt.xlabel(\"Date\")\n",
    "plt.ylabel(\"Valeur\")\n",
    "plt.legend()\n",
    "# on se concentre sur le troisième sous graphique\n",
    "plt.subplot(313)\n",
    "plt.plot(cac40_1988[\"time\"], cac40_1988[\"CAC 40\"], label=\"1988\")\n",
    "plt.xlabel(\"Date\")\n",
    "plt.ylabel(\"Valeur\")\n",
    "plt.legend()"
   ]
  },
  {
   "cell_type": "markdown",
   "metadata": {},
   "source": [
    "La fonction subplot permet de définir le graphique sur lequel vous travaillez.\n",
    "\n",
    "Ainsi, le code 212 veut dire qu’on travaille sur une figure avec deux graphiques en ligne et un seul en colonne. Le dernier chiffre définit le graphique que l’on modifie.\n",
    "\n",
    "Avec la fonction plt.subplots() :"
   ]
  },
  {
   "cell_type": "code",
   "execution_count": null,
   "metadata": {},
   "outputs": [],
   "source": [
    "# on définit les données à utiliser\n",
    "data=[cac40_1988,cac40_2000, cac40_2019]\n",
    "# on construit les sous-graphiques qui partagerons l’axe y\n",
    "f, axes = plt.subplots(len(data), 1)\n",
    "# on définit le titre de la figure\n",
    "f.suptitle(\"Evolution de l’indice CAC40 sur 3 années 2019 - 2000 - 1988\", \n",
    "             fontsize=14)\n",
    "# pour chaque sous-graphique, on ajoute un plot\n",
    "for ax, data in zip(axes, data) :\n",
    "    ax.plot(data[\"time\"], data[\"CAC 40\"] )\n",
    "    ax.set_ylabel(\"Valeur\")\n",
    "# finalement, on ajoute le titre de l’axe des x\n",
    "axes[1].set_xlabel(\"Date\")"
   ]
  },
  {
   "cell_type": "markdown",
   "metadata": {},
   "source": [
    "On voit qu’on a automatisé un peu plus le traitement et qu’on crée des objets pour chaque sous-graphique. La fonction *plt.subplots()* permet d’obtenir une liste de sous-graphiques que nous avons stockés dans axes."
   ]
  },
  {
   "cell_type": "markdown",
   "metadata": {},
   "source": [
    "#### Personnaliser les légendes et les colorbar\n",
    "\n",
    "Les légendes et les colorbar (légendes pour des dégradés de couleurs représentant une variable quantitative) peuvent être facilement modifiés."
   ]
  },
  {
   "cell_type": "code",
   "execution_count": null,
   "metadata": {},
   "outputs": [],
   "source": [
    "# on crée les données\n",
    "cac40_2019 = cac40[(cac40.time<\"2020-01-01\") & (cac40.time>\"2019-01-01\")]\n",
    "cac40_1988 = cac40[(cac40.time<\"1989-01-01\") & (cac40.time>\"1988-01-01\")]\n",
    "cac40_2000 = cac40[(cac40.time<\"2001-01-01\") & (cac40.time>\"2000-01-01\")]\n",
    "# on crée une figure\n",
    "plt.figure()\n",
    "# on définit le titre de cette figure\n",
    "plt.suptitle(\"Evolution de l’indice CAC40 sur 3 années 2019 - 2000 - 1988\", \n",
    "             fontsize=14)\n",
    "# on se concentre sur le premier sous graphique\n",
    "plt.subplot(311)\n",
    "plt.plot(cac40_2019[\"time\"],cac40_2019[\"CAC 40\"], label=\"2019\")\n",
    "plt.ylabel(\"Valeur\")\n",
    "plt.legend(bbox_to_anchor=(1.01,1),loc=2,borderaxespad=0.5)\n",
    "# on se concentre sur le second sous graphique\n",
    "plt.subplot(312)\n",
    "plt.plot(cac40_2000[\"time\"], cac40_2000[\"CAC 40\"], label=\"2000\")\n",
    "plt.xlabel(\"Date\")\n",
    "plt.ylabel(\"Valeur\")\n",
    "plt.legend(bbox_to_anchor=(1.01,1),loc=2,borderaxespad=0.5)\n",
    "# on se concentre sur le troisième sous graphique\n",
    "plt.subplot(313)\n",
    "plt.plot(cac40_1988[\"time\"], cac40_1988[\"CAC 40\"], label=\"1988\")\n",
    "plt.xlabel(\"Date\")\n",
    "plt.ylabel(\"Valeur\")\n",
    "plt.legend(bbox_to_anchor=(1.01,1),loc=2,borderaxespad=0.5)"
   ]
  },
  {
   "cell_type": "code",
   "execution_count": null,
   "metadata": {},
   "outputs": [],
   "source": [
    "x=np.random.random(size=100)\n",
    "y=np.random.random(size=100)\n",
    "taille=np.random.random(size=100)*100\n",
    "couleurs=np.random.random(size=100)*100\n",
    "# s représente la taille des points\n",
    "# c représente les couleurs (on peut avoir une seule couleur)\n",
    "# cmap permet de fournir à Matplotlib une palette de couleurs\n",
    "plt.scatter(x,y,s=taille, c=couleurs, cmap=plt.get_cmap(\"Greys\"))\n",
    "plt.title(\"Représentation de points aléatoires\")\n",
    "# on affiche la colorbar horizontalementet on lui ajoute une description\n",
    "plt.colorbar(orientation=\"horizontal\", shrink=0.8).set_label(\"Niveaux\")"
   ]
  },
  {
   "cell_type": "code",
   "execution_count": null,
   "metadata": {},
   "outputs": [],
   "source": [
    "x = np.random.random(size=100)\n",
    "y = np.random.random(size=100)\n",
    "taille = np.random.random(size=100)*100\n",
    "couleurs = np.random.random(size=100)*100\n",
    "\n",
    "# s représente la taille des points\n",
    "# c représente les couleurs (on peut avoir une seule couleur)\n",
    "# cmap permet de fournir à Matplotlib une palette de couleurs\n",
    "plt.scatter(x,y,s=taille, c=couleurs, cmap=plt.get_cmap(\"Greys\"))\n",
    "plt.title(\"Représentation de points aléatoires\")\n",
    "plt.colorbar(orientation=\"horizontal\", shrink=0.8).set_label(\"Niveaux\")\n"
   ]
  },
  {
   "cell_type": "markdown",
   "metadata": {},
   "source": [
    "#### Insérer du texte dans un graphique\n",
    "Il existe deux fonctions principales pour ajouter du texte dans un graphique : *plt.text()* et *plt.annotate()*. La première permet d’ajouter un texte à une position spécifique et la seconde permet d’ajouter une annotation.\n",
    "\n",
    "Si nous essayons d’ajouter des valeurs sur un graphique, on utilisera *plt.text()* :"
   ]
  },
  {
   "cell_type": "code",
   "execution_count": null,
   "metadata": {},
   "outputs": [],
   "source": [
    "moyenne=2\n",
    "sigma=3\n",
    "plt.hist(sigma*np.random.randn(1000)+moyenne, 50, density=True,facecolor='g', alpha=0.75)\n",
    "plt.title(\"Histogramme issu d’une loi normale\")\n",
    "plt.text(-6, .15, '$\\mu= %.2f,\\ \\sigma= %.2f$' %(moyenne, sigma), fontsize=12)\n",
    "plt.axis([-10,10,0,0.16])"
   ]
  },
  {
   "cell_type": "code",
   "execution_count": null,
   "metadata": {},
   "outputs": [],
   "source": [
    "moyenne=2\n",
    "sigma=3\n",
    "plt.hist(sigma*np.random.randn(1000)+moyenne, 50, density=True, facecolor='g', alpha=0.75)\n",
    "plt.title(\"Histogramme issu d’une loi normale\")\n",
    "plt.text(-6, .15, '$\\mu= %.2f,\\ \\sigma= %.2f$' %(moyenne, sigma), fontsize=12)\n",
    "plt.axis([-10,10,0,0.16])\n",
    "\n"
   ]
  },
  {
   "cell_type": "markdown",
   "metadata": {},
   "source": [
    "On peut aussi ajouter des annotations sur un graphique :"
   ]
  },
  {
   "cell_type": "code",
   "execution_count": null,
   "metadata": {},
   "outputs": [],
   "source": [
    "import matplotlib.dates as mdates\n",
    "# on extrait la valeur maximale sur l’année\n",
    "maximum_annee = cac40[\"CAC 40\"].max()\n",
    "# on extrait la date du maximum que l’on transforme en nombre\n",
    "date_maximum_num = mdates.date2num(cac40.loc[cac40[\"CAC 40\"].idxmax(),\n",
    "\"time\"])\n",
    "# on représente les données\n",
    "plt.plot(cac40[\"time\"], cac40[\"CAC 40\"], label=\"Cours\")\n",
    "plt.xlabel(\"Date\")\n",
    "plt.ylabel(\"Valeur\")\n",
    "# on ajoute l’annotation\n",
    "plt.annotate(\"Maximum : %.2f\" %(maximum_annee),\n",
    "xy = (date_maximum_num, maximum_annee),\n",
    "xytext = (date_maximum_num+800, maximum_annee),\n",
    "arrowprops = dict(facecolor='black'))"
   ]
  },
  {
   "cell_type": "markdown",
   "metadata": {},
   "source": [
    "### 5.1.11 Créer un graphique animé\n",
    "Matplotlib vous permet de générer des graphiques animés, c’est-à-dire des vidéos\n",
    "dans lesquelles vous allez pouvoir faire évoluer votre graphique.\n",
    "\n",
    "Pour pouvoir utiliser ces fonctionnalités, il faut ajouter de nouveaux outils dans votre environnement Anaconda. On va installer ffmpeg en utilisant conda.\n",
    "\n",
    "Ceci va nous permettre de générer des fichiers vidéo.\n",
    "\n",
    "Si on désire construire une vidéo permettant de visualiser l’évolution d’un nuage de points dans lequel la taille des points évolue avec le temps."
   ]
  },
  {
   "cell_type": "code",
   "execution_count": null,
   "metadata": {},
   "outputs": [],
   "source": [
    "from matplotlib.animation import FuncAnimation\n",
    "# définition de la figure\n",
    "fig, ax = plt.subplots(figsize=(5, 3))\n",
    "# génération des données\n",
    "x=np.random.randn(100)\n",
    "y = np.random.randn(100)\n",
    "z = 10*np.random.random(100)\n",
    "# définition du graphique\n",
    "nuage = ax.scatter(x, y)\n",
    "# fonction d’animation\n",
    "def animate(i) :\n",
    "    nuage.set_sizes(z*i)\n",
    "# construction de l’objet animé\n",
    "anim = FuncAnimation(fig, animate, interval=100, frames=len(y)-1)\n",
    "# sauvegarde du fichier\n",
    "anim.save('data/nuage-points.mp4')\n",
    "plt.close()"
   ]
  },
  {
   "cell_type": "markdown",
   "metadata": {},
   "source": [
    "Voici l'animation obtenue :\n",
    "\n",
    "<video controls src=\"data/nuage-points.mp4\">Nuage de points</video>"
   ]
  },
  {
   "cell_type": "markdown",
   "metadata": {},
   "source": [
    "Pour créer n’importe quel type de graphique animé, il faut donc utiliser la classe *FuncAnimation* qui va prendre comme paramètres :\n",
    "\n",
    "- fig : la figure utilisée.\n",
    "- func : une fonction qui sera appelée lors de la génération de chaque image de la vidéo. Le premier argument de cette fonction doit être le numéro de l’image (on utilise i dans notre exemple).\n",
    "- init_func : si on désire utiliser une fonction de génération de la première image.\n",
    "- interval : délai entre les images en millisecondes.\n",
    "- frames : définition de l’itérable à fournir à chaque image (on utilise un entier, cette valeur génère une suite d’entiers débutant à 0)."
   ]
  },
  {
   "cell_type": "markdown",
   "metadata": {},
   "source": [
    "## 5.2 Seaborn pour des représentations plus élaborées\n",
    "### 5.2.1 Utilisation de Seaborn\n",
    "\n",
    "Seaborn est un autre package intéressant pour la création de graphiques. Il est\n",
    "basé sur Matplotlib et en utilise les principes. Son principal intérêt réside dans la création de graphiques plus spécifiques en quelques lignes de code."
   ]
  },
  {
   "cell_type": "code",
   "execution_count": null,
   "metadata": {},
   "outputs": [],
   "source": [
    "import seaborn as sns"
   ]
  },
  {
   "cell_type": "markdown",
   "metadata": {},
   "source": [
    "### 5.2.2 Le box-plot ou la boîte à moustaches"
   ]
  },
  {
   "cell_type": "markdown",
   "metadata": {},
   "source": [
    "Un box plot (appelé aussi une boîte à moustache) est un graphique utilisé fréquemment pour l’exploration des données. Il permet de visualiser pour une variable ou pour un groupe d’individus le comportement global des individus."
   ]
  },
  {
   "cell_type": "markdown",
   "metadata": {},
   "source": [
    "Nous utiliserons ici des données de la région Île-de-France sur les communes de\n",
    "la (données open data Île-de-France, voir le début du chapitre 4 pour une description des données). \n",
    "\n",
    "On représente le box-plot du nombre de naissances par commune en fonction du département d’Île-de-France :"
   ]
  },
  {
   "cell_type": "code",
   "execution_count": null,
   "metadata": {},
   "outputs": [],
   "source": [
    "# on récupère les données\n",
    "data_idf=pd.read_csv(\"data/base-comparateur-de-territoires.csv\",sep=\";\")\n",
    "\n",
    "sns.boxplot(data_idf[\"DEP\"], data_idf[\"NAIS0914\"]/ data_idf[\"P09_POP\"])\n",
    "plt.title(\"Box plot du nombre de naissances par habitant par département\")"
   ]
  },
  {
   "cell_type": "markdown",
   "metadata": {},
   "source": [
    "Les box plots de Seaborn offrent d’autres possibilités, notamment d’utiliser le paramètre *data =* qui va simplifier notre code :"
   ]
  },
  {
   "cell_type": "code",
   "execution_count": null,
   "metadata": {},
   "outputs": [],
   "source": [
    "# on crée une nouvelle colonne\n",
    "data_idf[\"NAIS_HAB\"]= data_idf[\"NAIS0914\"]/data_idf[\"P09_POP\"]\n",
    "# on crée le box plot\n",
    "sns.boxplot(\"DEP\",\"NAIS_HAB\", data=data_idf, linewidth=1, \n",
    "            notch=True, fliersize=2)\n",
    "plt.title(\"Box-plot entaillé par département\")"
   ]
  },
  {
   "cell_type": "markdown",
   "metadata": {},
   "source": [
    "### 5.2.3 Violin plot\n",
    "\n",
    "Les violons ou violin plot sont des graphiques importants en visualisation de\n",
    "données, ils permettent de visualiser la répartition des données et la boîte à moustache associée.\n",
    "\n",
    "Pour obtenir un graphique en violons, on utilise :"
   ]
  },
  {
   "cell_type": "code",
   "execution_count": null,
   "metadata": {},
   "outputs": [],
   "source": [
    "sns.violinplot(\"DEP\",\"NAIS_HAB\", data=data_idf)\n",
    "plt.title(\"Violin-plot par département\")"
   ]
  },
  {
   "cell_type": "markdown",
   "metadata": {},
   "source": [
    "Si nous prenons maintenant les données AirBnB, on voudrait représenter le niveau\n",
    "des évaluations sur un logement en fonction du type de chambre et du type d’hôte\n",
    "(super-host ou non) :"
   ]
  },
  {
   "cell_type": "code",
   "execution_count": null,
   "metadata": {},
   "outputs": [],
   "source": [
    "# on récupère les données\n",
    "listing=pd.read_csv(\"data/listing_extrait.csv\",index_col=0)"
   ]
  },
  {
   "cell_type": "code",
   "execution_count": null,
   "metadata": {},
   "outputs": [],
   "source": [
    "# on construit notre graphique en séparant notre violin plot en deux parties\n",
    "sns.violinplot(\"room_type\",\"review_scores_rating\", hue=\"host_is_superhost\", \n",
    "               split=True,data=listing)\n",
    "\n",
    "plt.legend(bbox_to_anchor=(1.01, 1), shadow=True, loc=2,\n",
    "           borderaxespad = 0.5, title = \"Est super-host\")\n",
    "plt.title(\"Graphique en violons du score moyen des logements\")"
   ]
  },
  {
   "cell_type": "markdown",
   "metadata": {},
   "source": [
    "### 5.2.4 Les pairplot() de Seaborn ou la matrice de graphiques\n",
    "\n",
    "Le pairplot de Seaborn est un outil très efficace pour représenter les variables\n",
    "quantitatives d’un DataFrame (à condition de ne pas trop en avoir).\n",
    "\n",
    "Un pairplot va construire une figure avec à l’intérieur une matrice de graphiques.\n",
    "\n",
    "Les éléments sur la diagonale sont des distplot et les éléments hors de la diagonale sont des nuages de points qui croisent les variables deux à deux.\n",
    "\n",
    "Si nous essayons de représenter ce graphique par département sur les données\n",
    "de la région Ile-de-France :"
   ]
  },
  {
   "cell_type": "code",
   "execution_count": null,
   "metadata": {},
   "outputs": [],
   "source": [
    "data_idf['DEP'] = data_idf['DEP'].astype('category')"
   ]
  },
  {
   "cell_type": "code",
   "execution_count": null,
   "metadata": {
    "scrolled": true
   },
   "outputs": [],
   "source": [
    "sns.pairplot(data=data_idf, hue='DEP',\n",
    "vars=['P14_POP', 'SUPERF','NAIS0914', 'DECE0914'],\n",
    "height=2, plot_kws={\"s\": 25},\n",
    "markers=['X','o','v','^','<','.','>',\"*\"])\n"
   ]
  },
  {
   "cell_type": "markdown",
   "metadata": {},
   "source": [
    "L’argument *plot_kws* est un argument qui permet de définir des propriétés plus spécifiques du graphique.\n",
    "\n",
    "Il attend un dictionnaire de propriétés-valeurs. Ici on définit la taille des points dans les nuages de points."
   ]
  },
  {
   "cell_type": "markdown",
   "metadata": {},
   "source": [
    "### 5.2.5 Les jointplot()\n",
    "\n",
    "Le jointplot est un graphique qui permet de représenter le croisement entre deux\n",
    "variables quantitatives. Il affiche simultanément un nuage de points et des histogrammes pour chaque variable.\n",
    "\n",
    "Si nous travaillons sur le nombre de décès et de naissances en fonction de la population des communes d’Ile-de-France, nous aurons :"
   ]
  },
  {
   "cell_type": "code",
   "execution_count": null,
   "metadata": {},
   "outputs": [],
   "source": [
    "# construction de nouvelles variables\n",
    "data_idf['DECE_HAB']=data_idf['DECE0914']/data_idf[\"P14_POP\"]\n",
    "data_idf['NAISS_HAB']=data_idf['NAIS0914']/data_idf[\"P14_POP\"]"
   ]
  },
  {
   "cell_type": "code",
   "execution_count": null,
   "metadata": {},
   "outputs": [],
   "source": [
    "# représentation du jointplot\n",
    "ax = sns.jointplot(x='DECE_HAB', \n",
    "                   y='NAISS_HAB', \n",
    "                   data=data_idf, \n",
    "                   joint_kws={\"s\": 10})"
   ]
  },
  {
   "cell_type": "markdown",
   "metadata": {},
   "source": [
    "Il existe bien d'autres fonctionnalités de Matplotlib et Seaborn, n'hésitez pas à consulter la documentation des ces packages :\n",
    "- https://matplotlib.org/ \n",
    "- https://seaborn.pydata.org/"
   ]
  }
 ],
 "metadata": {
  "kernelspec": {
   "display_name": "Python 3",
   "language": "python",
   "name": "python3"
  },
  "language_info": {
   "codemirror_mode": {
    "name": "ipython",
    "version": 3
   },
   "file_extension": ".py",
   "mimetype": "text/x-python",
   "name": "python",
   "nbconvert_exporter": "python",
   "pygments_lexer": "ipython3",
   "version": "3.7.9"
  }
 },
 "nbformat": 4,
 "nbformat_minor": 4
}
